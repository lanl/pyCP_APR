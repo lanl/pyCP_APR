{
 "cells": [
  {
   "cell_type": "markdown",
   "metadata": {},
   "source": [
    "# Generate TOY Tensor "
   ]
  },
  {
   "cell_type": "code",
   "execution_count": 1,
   "metadata": {},
   "outputs": [],
   "source": [
    "import random\n",
    "import numpy as np\n",
    "\n",
    "random.seed(42)\n",
    "np.random.seed(42)"
   ]
  },
  {
   "cell_type": "code",
   "execution_count": 2,
   "metadata": {},
   "outputs": [],
   "source": [
    "train_coords = list()\n",
    "train_count = list()\n",
    "\n",
    "test_coords = list()\n",
    "test_count = list()\n",
    "\n",
    "for ii in range(1000):\n",
    "    train_coords.append(list(np.random.randint(10, size=4)))\n",
    "    train_count.append(random.randint(1, 20))\n",
    "    \n",
    "for ii in range(100):\n",
    "    test_coords.append(list(np.random.randint(10, size=4)))\n",
    "    test_count.append(random.randint(1, 20))"
   ]
  },
  {
   "cell_type": "code",
   "execution_count": 3,
   "metadata": {},
   "outputs": [],
   "source": [
    "tensor = dict()\n",
    "tensor['train_coords'] = train_coords\n",
    "tensor['train_count'] = train_count\n",
    "tensor['test_coords'] = test_coords\n",
    "tensor['test_count'] = test_count"
   ]
  },
  {
   "cell_type": "code",
   "execution_count": 4,
   "metadata": {},
   "outputs": [],
   "source": [
    "np.savez_compressed('TOY',**tensor)"
   ]
  },
  {
   "cell_type": "markdown",
   "metadata": {},
   "source": [
    "# Load the TOY Tensor"
   ]
  },
  {
   "cell_type": "code",
   "execution_count": 5,
   "metadata": {},
   "outputs": [],
   "source": [
    "data = np.load(\"TOY\" + str(\".npz\"), allow_pickle=True)"
   ]
  },
  {
   "cell_type": "code",
   "execution_count": 6,
   "metadata": {},
   "outputs": [
    {
     "data": {
      "text/plain": [
       "['train_coords', 'train_count', 'test_coords', 'test_count']"
      ]
     },
     "execution_count": 6,
     "metadata": {},
     "output_type": "execute_result"
    }
   ],
   "source": [
    "list(data)"
   ]
  },
  {
   "cell_type": "code",
   "execution_count": 7,
   "metadata": {},
   "outputs": [],
   "source": [
    "# Training set\n",
    "coords_train = data['train_coords']\n",
    "nnz_train = data['train_count']\n",
    "\n",
    "# Test set\n",
    "coords_test = data['test_coords']\n",
    "nnz_test = data['test_count']"
   ]
  },
  {
   "cell_type": "code",
   "execution_count": 8,
   "metadata": {},
   "outputs": [
    {
     "data": {
      "text/plain": [
       "array([[6, 3, 7, 4],\n",
       "       [6, 9, 2, 6],\n",
       "       [7, 4, 3, 7],\n",
       "       [7, 2, 5, 4],\n",
       "       [1, 7, 5, 1],\n",
       "       [4, 0, 9, 5],\n",
       "       [8, 0, 9, 2],\n",
       "       [6, 3, 8, 2],\n",
       "       [4, 2, 6, 4],\n",
       "       [8, 6, 1, 3]])"
      ]
     },
     "execution_count": 8,
     "metadata": {},
     "output_type": "execute_result"
    }
   ],
   "source": [
    "coords_train[:10]"
   ]
  },
  {
   "cell_type": "code",
   "execution_count": 9,
   "metadata": {},
   "outputs": [
    {
     "data": {
      "text/plain": [
       "array([ 4,  1,  9,  8,  8,  5,  4, 18,  3, 19])"
      ]
     },
     "execution_count": 9,
     "metadata": {},
     "output_type": "execute_result"
    }
   ],
   "source": [
    "nnz_train[:10]"
   ]
  },
  {
   "cell_type": "code",
   "execution_count": 10,
   "metadata": {},
   "outputs": [
    {
     "data": {
      "text/plain": [
       "array([[1, 4, 1, 1],\n",
       "       [5, 9, 8, 3],\n",
       "       [5, 6, 5, 7],\n",
       "       [3, 0, 6, 2],\n",
       "       [5, 1, 8, 0],\n",
       "       [5, 5, 4, 4],\n",
       "       [0, 9, 4, 1],\n",
       "       [6, 2, 3, 2],\n",
       "       [2, 3, 4, 0],\n",
       "       [3, 7, 9, 6]])"
      ]
     },
     "execution_count": 10,
     "metadata": {},
     "output_type": "execute_result"
    }
   ],
   "source": [
    "coords_test[:10]"
   ]
  },
  {
   "cell_type": "code",
   "execution_count": 11,
   "metadata": {},
   "outputs": [
    {
     "data": {
      "text/plain": [
       "array([10, 10, 19, 19, 16,  5, 15, 18, 16, 12])"
      ]
     },
     "execution_count": 11,
     "metadata": {},
     "output_type": "execute_result"
    }
   ],
   "source": [
    "nnz_test[:10]"
   ]
  },
  {
   "cell_type": "markdown",
   "metadata": {},
   "source": [
    "# Factorize"
   ]
  },
  {
   "cell_type": "code",
   "execution_count": 12,
   "metadata": {},
   "outputs": [
    {
     "name": "stderr",
     "output_type": "stream",
     "text": [
      "/home/maksim/pyCP_APR/pyCP_APR/numpy_backend/CP_APR.py:220: SyntaxWarning: 'int' object is not callable; perhaps you missed a comma?\n",
      "  if self.verbose != 0 (self.simple_verbose == False):\n",
      "/opt/conda/envs/pyCP_APR/lib/python3.9/site-packages/torch/__init__.py:614: UserWarning: torch.set_default_tensor_type() is deprecated as of PyTorch 2.1, please use torch.set_default_dtype() and torch.set_default_device() as alternatives. (Triggered internally at ../torch/csrc/tensor/python_tensor.cpp:451.)\n",
      "  _C._set_default_tensor_type(t)\n"
     ]
    },
    {
     "name": "stdout",
     "output_type": "stream",
     "text": [
      "Using NVIDIA TITAN RTX\n"
     ]
    }
   ],
   "source": [
    "from pyCP_APR import CP_APR\n",
    "\n",
    "cp_apr = CP_APR(n_iters=10, random_state=42, verbose=200, \n",
    "                method='torch',\n",
    "                device='gpu', \n",
    "                return_type='numpy', \n",
    "                device_num=0\n",
    "               )"
   ]
  },
  {
   "cell_type": "code",
   "execution_count": 13,
   "metadata": {},
   "outputs": [
    {
     "name": "stderr",
     "output_type": "stream",
     "text": [
      "/home/maksim/pyCP_APR/pyCP_APR/torch_backend/CP_APR_Torch.py:463: UserWarning: To copy construct from a tensor, it is recommended to use sourceTensor.clone().detach() or sourceTensor.clone().detach().requires_grad_(True), rather than torch.tensor(sourceTensor).\n",
      "  self.epsilon = tr.tensor(self.epsilon).to(self.device)\n"
     ]
    },
    {
     "name": "stdout",
     "output_type": "stream",
     "text": [
      "CP-APR (MU):\n",
      "Iter=1, Inner Iter=8, KKT Violation=0.000000, obj=-9748.910692, nViolations=0\n",
      "Exiting because all subproblems reached KKT tol.\n",
      "===========================================\n",
      " Final log-likelihood = -9748.910692\n",
      " Final least squares fit = 0.041186\n",
      " Final KKT violation = 0.000000\n",
      " Total inner iterations = 12\n",
      " Total execution time = 0.8494 seconds\n",
      "Converting the latent factors to Numpy arrays.\n",
      "CP-APR (MU):\n",
      "Iter=1, Inner Iter=40, KKT Violation=0.277127, obj=-8929.931115, nViolations=0\n",
      "===========================================\n",
      " Final log-likelihood = -8017.186125\n",
      " Final least squares fit = 0.055189\n",
      " Final KKT violation = 0.160233\n",
      " Total inner iterations = 400\n",
      " Total execution time = 0.9528 seconds\n",
      "Converting the latent factors to Numpy arrays.\n"
     ]
    },
    {
     "data": {
      "text/plain": [
       "[{'Factors': {'0': array([0.10385419, 0.10347446, 0.10005696, 0.09711411, 0.09407632,\n",
       "          0.09379153, 0.11363205, 0.08800076, 0.11638504, 0.08961458]),\n",
       "   '1': array([0.09056389, 0.10632238, 0.0995823 , 0.10091133, 0.11334726,\n",
       "          0.09588001, 0.09720904, 0.11704955, 0.10015189, 0.07898234]),\n",
       "   '2': array([0.10992975, 0.10613252, 0.09758876, 0.11866338, 0.09796848,\n",
       "          0.09625973, 0.07898234, 0.09350674, 0.10176571, 0.09920258]),\n",
       "   '3': array([0.10992975, 0.07442567, 0.11714448, 0.09103854, 0.11334726,\n",
       "          0.09815834, 0.09711411, 0.10461363, 0.10727169, 0.08695652])},\n",
       "  'Weights': array([10534.])},\n",
       " {'Factors': {'0': array([[1.31313342e-01, 7.88352893e-02, 1.05177421e-01, 1.66367367e-01,\n",
       "           7.35723480e-03],\n",
       "          [3.50352087e-02, 1.39263896e-01, 1.22471481e-01, 1.03049559e-01,\n",
       "           1.88774236e-01],\n",
       "          [4.94525703e-02, 1.40498071e-01, 1.14713223e-01, 2.23393507e-06,\n",
       "           2.49321155e-01],\n",
       "          [8.84527234e-02, 1.18779191e-01, 1.53434838e-01, 2.32253946e-23,\n",
       "           1.13166904e-01],\n",
       "          [1.39393557e-01, 1.09535876e-01, 1.91427122e-04, 6.60413645e-02,\n",
       "           9.66799315e-02],\n",
       "          [1.28343186e-01, 4.76065394e-06, 1.14834150e-01, 8.02257575e-02,\n",
       "           1.85464697e-01],\n",
       "          [1.14462145e-01, 4.28289376e-02, 1.20117079e-01, 2.04679168e-01,\n",
       "           1.45596646e-01],\n",
       "          [1.05395804e-02, 9.66940187e-02, 1.53349690e-01, 2.41174827e-01,\n",
       "           1.36391253e-02],\n",
       "          [1.30019155e-01, 1.64433443e-01, 1.14701592e-01, 9.96228168e-02,\n",
       "           1.73730067e-26],\n",
       "          [1.72988533e-01, 1.09126517e-01, 1.00909859e-03, 3.88369070e-02,\n",
       "           7.03523794e-08]]),\n",
       "   '1': array([[8.23206784e-02, 1.00394896e-02, 2.18633229e-01, 1.07790428e-01,\n",
       "           9.19020687e-02],\n",
       "          [1.92752292e-02, 1.97853262e-01, 4.38668119e-02, 5.01819912e-02,\n",
       "           2.97895805e-01],\n",
       "          [6.47456094e-02, 1.04415517e-01, 3.90407967e-18, 1.68664345e-01,\n",
       "           2.35549918e-01],\n",
       "          [1.14273117e-01, 1.61263011e-01, 2.44758149e-02, 1.34804958e-01,\n",
       "           4.08302753e-08],\n",
       "          [1.53151689e-01, 1.12963544e-02, 1.75494602e-01, 1.29039256e-01,\n",
       "           1.19240573e-01],\n",
       "          [3.93034478e-02, 1.54358470e-01, 1.66663517e-01, 9.91704308e-02,\n",
       "           2.82566619e-02],\n",
       "          [1.40194662e-01, 1.14340451e-01, 4.18062323e-08, 1.60766910e-01,\n",
       "           2.83940530e-15],\n",
       "          [1.58380910e-01, 1.05396852e-01, 2.11113130e-01, 4.62811122e-03,\n",
       "           3.56285615e-02],\n",
       "          [9.25178528e-02, 6.15868359e-02, 1.29036568e-01, 7.60693567e-02,\n",
       "           1.91521672e-01],\n",
       "          [1.35836803e-01, 7.94497558e-02, 3.07162841e-02, 6.88842121e-02,\n",
       "           4.69971044e-06]]),\n",
       "   '2': array([[3.78217850e-02, 6.65338207e-02, 8.69634569e-02, 1.49811658e-01,\n",
       "           3.78647461e-01],\n",
       "          [1.57048185e-01, 1.90485433e-01, 4.33337739e-02, 8.46744194e-13,\n",
       "           1.22719743e-13],\n",
       "          [5.79882199e-02, 1.85004572e-01, 1.92121191e-01, 2.61416286e-12,\n",
       "           1.11499604e-02],\n",
       "          [1.87134582e-01, 9.94214682e-02, 1.29333132e-01, 1.10422631e-05,\n",
       "           9.82640248e-02],\n",
       "          [6.98412657e-02, 5.53284830e-02, 2.15704282e-01, 1.51322304e-01,\n",
       "           4.46609819e-02],\n",
       "          [1.43399183e-01, 6.54579606e-02, 8.35938764e-02, 1.39137085e-01,\n",
       "           8.83224593e-20],\n",
       "          [1.30527547e-01, 5.37744834e-02, 4.51411125e-15, 3.48577942e-07,\n",
       "           1.88993833e-01],\n",
       "          [9.66303595e-02, 4.95106384e-05, 6.46369185e-02, 2.24002253e-01,\n",
       "           1.65686916e-01],\n",
       "          [1.17229541e-01, 4.20930211e-02, 4.59922062e-02, 2.82573695e-01,\n",
       "           4.72534822e-02],\n",
       "          [2.37933131e-03, 2.41851247e-01, 1.38321164e-01, 5.31416142e-02,\n",
       "           6.53433407e-02]]),\n",
       "   '3': array([[6.58731679e-02, 1.58436046e-01, 6.66393409e-03, 2.75747758e-01,\n",
       "           6.92157752e-02],\n",
       "          [2.47959075e-03, 1.04828327e-01, 1.57954701e-01, 1.55068154e-01,\n",
       "           1.63805384e-25],\n",
       "          [1.01179399e-01, 1.42389989e-01, 3.81758766e-02, 1.84917741e-01,\n",
       "           1.32211995e-01],\n",
       "          [1.43603361e-01, 3.42087322e-07, 2.76829940e-01, 5.48147339e-04,\n",
       "           2.10869136e-05],\n",
       "          [1.32213034e-01, 7.35955746e-02, 5.39636314e-02, 2.14305464e-01,\n",
       "           1.04934118e-01],\n",
       "          [1.06770534e-01, 1.04124181e-01, 9.64521397e-02, 3.09906267e-02,\n",
       "           1.43685916e-01],\n",
       "          [9.79676757e-02, 7.42593634e-02, 1.73590353e-02, 9.01373634e-02,\n",
       "           2.55506374e-01],\n",
       "          [9.25943111e-02, 1.01117770e-01, 1.52573605e-01, 2.51971654e-12,\n",
       "           2.03691612e-01],\n",
       "          [6.87226148e-02, 2.14561661e-01, 1.71450366e-01, 2.51865740e-02,\n",
       "           3.81297870e-09],\n",
       "          [1.88596312e-01, 2.66867467e-02, 2.85767705e-02, 2.30981723e-02,\n",
       "           9.07331200e-02]])},\n",
       "  'Weights': array([3429.82192023, 2648.20759558, 1681.96174582, 1497.49967265,\n",
       "         1276.50906572])}]"
      ]
     },
     "execution_count": 13,
     "metadata": {},
     "output_type": "execute_result"
    }
   ],
   "source": [
    "factors = cp_apr.fit(coords=coords_train, values=nnz_train, rank=[1,5])\n",
    "factors"
   ]
  },
  {
   "cell_type": "markdown",
   "metadata": {},
   "source": [
    "# Predict"
   ]
  },
  {
   "cell_type": "code",
   "execution_count": 14,
   "metadata": {},
   "outputs": [
    {
     "data": {
      "text/plain": [
       "array([2.08910667e-11, 1.69627721e-07, 0.00000000e+00, 0.00000000e+00,\n",
       "       7.77156117e-16, 3.11204214e-03, 1.44328993e-15, 3.10862447e-15,\n",
       "       0.00000000e+00, 1.47644674e-10, 1.52042377e-07, 0.00000000e+00,\n",
       "       2.83784107e-12, 1.08537623e-11, 1.09300347e-11, 2.39411829e-05,\n",
       "       4.16389750e-06, 3.97624460e-06, 2.33146835e-15, 1.02362563e-13,\n",
       "       1.78918854e-04, 3.96765953e-11, 3.10366945e-01, 1.58183483e-08,\n",
       "       0.00000000e+00, 3.56175597e-07, 3.09356984e-11, 4.41464623e-04,\n",
       "       2.46469511e-13, 4.88905154e-01, 1.93036049e-03, 0.00000000e+00,\n",
       "       0.00000000e+00, 9.21087890e-07, 2.05273860e-01, 9.10382880e-15,\n",
       "       1.01223411e-02, 2.77555756e-14, 1.11022302e-16, 7.97153696e-01,\n",
       "       5.68406766e-03, 0.00000000e+00, 7.38477774e-02, 7.94507339e-02,\n",
       "       0.00000000e+00, 9.39525513e-09, 5.57141300e-09, 0.00000000e+00,\n",
       "       1.56122892e-11, 6.36792698e-02, 1.27120536e-13, 0.00000000e+00,\n",
       "       1.02005033e-08, 3.10230812e-08, 1.44328993e-15, 0.00000000e+00,\n",
       "       5.60837026e-02, 0.00000000e+00, 3.56923041e-01, 3.64811616e-04,\n",
       "       1.75723234e-05, 2.10244815e-06, 2.23808409e-02, 3.67388342e-11,\n",
       "       9.76310051e-02, 1.05303591e-02, 3.58701957e-12, 2.62066515e-03,\n",
       "       6.03709230e-08, 6.13823529e-01, 2.77561624e-02, 1.57810431e-08,\n",
       "       1.54548763e-01, 7.30861300e-08, 5.28750599e-10, 1.38850598e-10,\n",
       "       8.18234369e-14, 9.40585833e-03, 5.34672478e-07, 0.00000000e+00,\n",
       "       3.76164969e-05, 2.04281037e-14, 1.14068117e-03, 6.19938329e-04,\n",
       "       5.16626805e-03, 3.20829671e-02, 7.11362080e-11, 1.15774057e-12,\n",
       "       0.00000000e+00, 1.66755739e-01, 5.10702591e-15, 0.00000000e+00,\n",
       "       4.05264406e-01, 9.28389014e-06, 8.71437478e-10, 4.48101556e-11,\n",
       "       4.97689290e-09, 7.25477042e-06, 2.37209875e-01, 2.88657986e-15])"
      ]
     },
     "execution_count": 14,
     "metadata": {},
     "output_type": "execute_result"
    }
   ],
   "source": [
    "y_score = cp_apr.predict_scores(coords=coords_test, values=nnz_test)\n",
    "y_score"
   ]
  },
  {
   "cell_type": "code",
   "execution_count": null,
   "metadata": {},
   "outputs": [],
   "source": []
  }
 ],
 "metadata": {
  "kernelspec": {
   "display_name": "pyCP_APR",
   "language": "python",
   "name": "pycp_apr"
  },
  "language_info": {
   "codemirror_mode": {
    "name": "ipython",
    "version": 3
   },
   "file_extension": ".py",
   "mimetype": "text/x-python",
   "name": "python",
   "nbconvert_exporter": "python",
   "pygments_lexer": "ipython3",
   "version": "3.9.18"
  }
 },
 "nbformat": 4,
 "nbformat_minor": 4
}
